{
 "cells": [
  {
   "cell_type": "code",
   "execution_count": 1,
   "metadata": {},
   "outputs": [
    {
     "name": "stdout",
     "output_type": "stream",
     "text": [
      "Notebook content written to investigate.txt\n"
     ]
    }
   ],
   "source": [
    "import nbformat\n",
    "\n",
    "\n",
    "def ipynb_to_txt(ipynb_path):\n",
    "    # Load the notebook\n",
    "    with open(ipynb_path, \"r\", encoding=\"utf-8\") as f:\n",
    "        nb = nbformat.read(f, as_version=4)\n",
    "\n",
    "    # Prepare the text file path\n",
    "    txt_path = ipynb_path.rsplit(\".\", 1)[0] + \".txt\"\n",
    "\n",
    "    # Open the text file and write the content of each cell\n",
    "    with open(txt_path, \"w\", encoding=\"utf-8\") as f:\n",
    "        for cell in nb[\"cells\"]:\n",
    "            if cell[\"cell_type\"] in [\"markdown\", \"code\"]:\n",
    "                # Add a newline for separation\n",
    "                f.write(cell[\"source\"] + \"\\n\\n\")\n",
    "\n",
    "    print(f\"Notebook content written to {txt_path}\")\n",
    "\n",
    "\n",
    "ipynb_to_txt(\"investigate.ipynb\")"
   ]
  }
 ],
 "metadata": {
  "kernelspec": {
   "display_name": "Nov2023py311",
   "language": "python",
   "name": "python3"
  },
  "language_info": {
   "codemirror_mode": {
    "name": "ipython",
    "version": 3
   },
   "file_extension": ".py",
   "mimetype": "text/x-python",
   "name": "python",
   "nbconvert_exporter": "python",
   "pygments_lexer": "ipython3",
   "version": "3.11.6"
  }
 },
 "nbformat": 4,
 "nbformat_minor": 2
}
